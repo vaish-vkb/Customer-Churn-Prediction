{
 "cells": [
  {
   "cell_type": "markdown",
   "id": "e51fed03-77d3-4e69-b444-8586fd169131",
   "metadata": {},
   "source": [
    "# Customer Churn Prediction\n",
    "#### A Customer Churn Prediction Project involves developing a model or system that predicts the likelihood of customers leaving or discontinuing their relationship with a company (i.e., \"churning\"). This is a common project in fields like marketing, customer service, and business analytics. The goal is to identify customers at risk of churn so the company can take proactive actions to retain them."
   ]
  },
  {
   "cell_type": "markdown",
   "id": "b4a89a0c-bfbd-428a-b0ef-dde10876b67d",
   "metadata": {},
   "source": [
    "### Common Use Cases:\n",
    "#### Telecom Industry: Predicting customers likely to cancel their subscription.\n",
    "\n",
    "#### Retail/Subscription Services: Identifying users likely to stop subscribing to services or stop buying products.\n",
    "\n",
    "#### Financial Services: Detecting clients who may close their accounts or move to a competitor."
   ]
  },
  {
   "cell_type": "markdown",
   "id": "1de5c498-91c5-4dc7-aa86-3fef48f265fe",
   "metadata": {},
   "source": [
    "#### In the context of Customer Churn Prediction, the terms Churn Yes and Churn No refer to the two possible outcomes of a customer's behavior regarding their relationship with a company.\n",
    "\n",
    "##### Churn Yes: This indicates that the customer has churned or left the company. In other words, the customer has discontinued using the company's products or services, cancelled a subscription, or ended their relationship with the business.\n",
    "\n",
    "##### Churn No: This indicates that the customer has not churned. They have continued their relationship with the company, still using the services or products, and have not cancelled or left the business.\n",
    "\n",
    "#### Example:\n",
    "##### Churn Yes could represent customers who have cancelled their phone plan, unsubscribed from a service, or stopped buying from a store.\n",
    "\n",
    "##### Churn No would represent customers who remain active, still engaging with the company's offerings.\n",
    "\n",
    "##### In a churn prediction model, Churn Yes and Churn No are typically used as the target variable or label to train the machine learning algorithm. The model predicts the likelihood of each customer belonging to one of these two categories based on features such as usage patterns, engagement levels, demographic information, etc."
   ]
  },
  {
   "cell_type": "markdown",
   "id": "027e384a-0a39-4ed4-a352-f7a278448895",
   "metadata": {},
   "source": [
    "#### The Customer Churn Dataset is used for predicting customer churn, particularly in the context of telecom services. The dataset contains information about customers' demographic details, service usage, and account information, to determine which customers are likely to leave the company (churn). Here's a breakdown of the dataset and its attributes:\n",
    "\n",
    "#### Attributes:\n",
    "##### customerID: A unique identifier for each customer.\n",
    "\n",
    "###### Unique Values: 7043 customers\n",
    "\n",
    "###### Missing: None\n",
    "\n",
    "##### gender: Gender of the customer (Male, Female).\n",
    "\n",
    "###### Valid: 7043\n",
    "\n",
    "###### Unique: 2 (Male, Female)\n",
    "\n",
    "###### Most Common: Male (50%)\n",
    "\n",
    "##### SeniorCitizen: Whether the customer is a senior citizen or not (1 for Yes, 0 for No).\n",
    "\n",
    "###### Valid: 7043\n",
    "\n",
    "###### Unique: 2 (1 = Yes, 0 = No)\n",
    "\n",
    "###### Mean: 0.16 (16% of customers are senior citizens)\n",
    "\n",
    "##### Partner: Whether the customer has a partner (Yes, No).\n",
    "\n",
    "###### Valid: 7043\n",
    "\n",
    "###### Unique: 2 (Yes, No)\n",
    "\n",
    "###### Most Common: Yes (50%)\n",
    "\n",
    "##### Dependents: Whether the customer has dependents (Yes, No).\n",
    "\n",
    "###### Valid: 7043\n",
    "\n",
    "###### Unique: 2 (Yes, No)\n",
    "\n",
    "###### Most Common: No (50%)\n",
    "\n",
    "##### tenure: Number of months the customer has stayed with the company.\n",
    "\n",
    "###### Valid: 7043\n",
    "\n",
    "###### Mean: 32.4 months\n",
    "\n",
    "###### Range: 9 to 72 months\n",
    "\n",
    "###### Most Common: 72 months\n",
    "\n",
    "##### PhoneService: Whether the customer has a phone service (Yes, No).\n",
    "\n",
    "###### Valid: 7043\n",
    "\n",
    "###### Unique: 2 (Yes, No)\n",
    "\n",
    "###### Most Common: Yes (50%)\n",
    "\n",
    "##### MultipleLines: Whether the customer has multiple lines (Yes, No, No phone service).\n",
    "\n",
    "###### Valid: 7043\n",
    "\n",
    "###### Unique: 3 (Yes, No, No phone service)\n",
    "\n",
    "###### Most Common: No (48%)\n",
    "\n",
    "##### InternetService: The customer's internet service provider (DSL, Fiber optic, No).\n",
    "\n",
    "###### Valid: 7043\n",
    "\n",
    "###### Unique: 3 (DSL, Fiber optic, No)\n",
    "\n",
    "###### Most Common: Fiber optic (44%)\n",
    "\n",
    "##### OnlineSecurity: Whether the customer has online security (Yes, No, No internet service).\n",
    "\n",
    "###### Valid: 7043\n",
    "\n",
    "###### Unique: 3 (Yes, No, No internet service)\n",
    "\n",
    "###### Most Common: No (50%)\n",
    "\n",
    "#### Dataset Description:\n",
    "##### Purpose: Predict whether a customer will churn (leave the service provider) based on their demographic and service usage data.\n",
    "\n",
    "##### Target Column: Churn – Whether the customer left the company in the last month (Yes or No).\n",
    "\n",
    "##### Features: Various customer attributes, such as their gender, senior citizen status, partner status, dependents, tenure, services used, etc.\n",
    "\n",
    "##### Total Records: 7043 customers."
   ]
  },
  {
   "cell_type": "markdown",
   "id": "824ddf8b-8ae1-4748-95db-53b40ede4b49",
   "metadata": {},
   "source": [
    "# Data Preparation & Preprocessing"
   ]
  },
  {
   "cell_type": "markdown",
   "id": "89d79e22-bc56-46ad-9662-e0b0e374d15b",
   "metadata": {},
   "source": [
    "## 1.1 Load Data & Basic Checks"
   ]
  },
  {
   "cell_type": "markdown",
   "id": "82317d52-590b-46fc-acc3-cbba3aeeef21",
   "metadata": {},
   "source": [
    "##### https://www.kaggle.com/datasets/blastchar/telco-customer-churn/data"
   ]
  },
  {
   "cell_type": "code",
   "execution_count": 3,
   "id": "7428e5b1-565f-466f-bb6f-99cc09c29875",
   "metadata": {},
   "outputs": [
    {
     "data": {
      "text/html": [
       "<div>\n",
       "<style scoped>\n",
       "    .dataframe tbody tr th:only-of-type {\n",
       "        vertical-align: middle;\n",
       "    }\n",
       "\n",
       "    .dataframe tbody tr th {\n",
       "        vertical-align: top;\n",
       "    }\n",
       "\n",
       "    .dataframe thead th {\n",
       "        text-align: right;\n",
       "    }\n",
       "</style>\n",
       "<table border=\"1\" class=\"dataframe\">\n",
       "  <thead>\n",
       "    <tr style=\"text-align: right;\">\n",
       "      <th></th>\n",
       "      <th>customerID</th>\n",
       "      <th>gender</th>\n",
       "      <th>SeniorCitizen</th>\n",
       "      <th>Partner</th>\n",
       "      <th>Dependents</th>\n",
       "      <th>tenure</th>\n",
       "      <th>PhoneService</th>\n",
       "      <th>MultipleLines</th>\n",
       "      <th>InternetService</th>\n",
       "      <th>OnlineSecurity</th>\n",
       "      <th>...</th>\n",
       "      <th>DeviceProtection</th>\n",
       "      <th>TechSupport</th>\n",
       "      <th>StreamingTV</th>\n",
       "      <th>StreamingMovies</th>\n",
       "      <th>Contract</th>\n",
       "      <th>PaperlessBilling</th>\n",
       "      <th>PaymentMethod</th>\n",
       "      <th>MonthlyCharges</th>\n",
       "      <th>TotalCharges</th>\n",
       "      <th>Churn</th>\n",
       "    </tr>\n",
       "  </thead>\n",
       "  <tbody>\n",
       "    <tr>\n",
       "      <th>0</th>\n",
       "      <td>7590-VHVEG</td>\n",
       "      <td>Female</td>\n",
       "      <td>0</td>\n",
       "      <td>Yes</td>\n",
       "      <td>No</td>\n",
       "      <td>1</td>\n",
       "      <td>No</td>\n",
       "      <td>No phone service</td>\n",
       "      <td>DSL</td>\n",
       "      <td>No</td>\n",
       "      <td>...</td>\n",
       "      <td>No</td>\n",
       "      <td>No</td>\n",
       "      <td>No</td>\n",
       "      <td>No</td>\n",
       "      <td>Month-to-month</td>\n",
       "      <td>Yes</td>\n",
       "      <td>Electronic check</td>\n",
       "      <td>29.85</td>\n",
       "      <td>29.85</td>\n",
       "      <td>No</td>\n",
       "    </tr>\n",
       "    <tr>\n",
       "      <th>1</th>\n",
       "      <td>5575-GNVDE</td>\n",
       "      <td>Male</td>\n",
       "      <td>0</td>\n",
       "      <td>No</td>\n",
       "      <td>No</td>\n",
       "      <td>34</td>\n",
       "      <td>Yes</td>\n",
       "      <td>No</td>\n",
       "      <td>DSL</td>\n",
       "      <td>Yes</td>\n",
       "      <td>...</td>\n",
       "      <td>Yes</td>\n",
       "      <td>No</td>\n",
       "      <td>No</td>\n",
       "      <td>No</td>\n",
       "      <td>One year</td>\n",
       "      <td>No</td>\n",
       "      <td>Mailed check</td>\n",
       "      <td>56.95</td>\n",
       "      <td>1889.5</td>\n",
       "      <td>No</td>\n",
       "    </tr>\n",
       "    <tr>\n",
       "      <th>2</th>\n",
       "      <td>3668-QPYBK</td>\n",
       "      <td>Male</td>\n",
       "      <td>0</td>\n",
       "      <td>No</td>\n",
       "      <td>No</td>\n",
       "      <td>2</td>\n",
       "      <td>Yes</td>\n",
       "      <td>No</td>\n",
       "      <td>DSL</td>\n",
       "      <td>Yes</td>\n",
       "      <td>...</td>\n",
       "      <td>No</td>\n",
       "      <td>No</td>\n",
       "      <td>No</td>\n",
       "      <td>No</td>\n",
       "      <td>Month-to-month</td>\n",
       "      <td>Yes</td>\n",
       "      <td>Mailed check</td>\n",
       "      <td>53.85</td>\n",
       "      <td>108.15</td>\n",
       "      <td>Yes</td>\n",
       "    </tr>\n",
       "    <tr>\n",
       "      <th>3</th>\n",
       "      <td>7795-CFOCW</td>\n",
       "      <td>Male</td>\n",
       "      <td>0</td>\n",
       "      <td>No</td>\n",
       "      <td>No</td>\n",
       "      <td>45</td>\n",
       "      <td>No</td>\n",
       "      <td>No phone service</td>\n",
       "      <td>DSL</td>\n",
       "      <td>Yes</td>\n",
       "      <td>...</td>\n",
       "      <td>Yes</td>\n",
       "      <td>Yes</td>\n",
       "      <td>No</td>\n",
       "      <td>No</td>\n",
       "      <td>One year</td>\n",
       "      <td>No</td>\n",
       "      <td>Bank transfer (automatic)</td>\n",
       "      <td>42.30</td>\n",
       "      <td>1840.75</td>\n",
       "      <td>No</td>\n",
       "    </tr>\n",
       "    <tr>\n",
       "      <th>4</th>\n",
       "      <td>9237-HQITU</td>\n",
       "      <td>Female</td>\n",
       "      <td>0</td>\n",
       "      <td>No</td>\n",
       "      <td>No</td>\n",
       "      <td>2</td>\n",
       "      <td>Yes</td>\n",
       "      <td>No</td>\n",
       "      <td>Fiber optic</td>\n",
       "      <td>No</td>\n",
       "      <td>...</td>\n",
       "      <td>No</td>\n",
       "      <td>No</td>\n",
       "      <td>No</td>\n",
       "      <td>No</td>\n",
       "      <td>Month-to-month</td>\n",
       "      <td>Yes</td>\n",
       "      <td>Electronic check</td>\n",
       "      <td>70.70</td>\n",
       "      <td>151.65</td>\n",
       "      <td>Yes</td>\n",
       "    </tr>\n",
       "  </tbody>\n",
       "</table>\n",
       "<p>5 rows × 21 columns</p>\n",
       "</div>"
      ],
      "text/plain": [
       "   customerID  gender  SeniorCitizen Partner Dependents  tenure PhoneService  \\\n",
       "0  7590-VHVEG  Female              0     Yes         No       1           No   \n",
       "1  5575-GNVDE    Male              0      No         No      34          Yes   \n",
       "2  3668-QPYBK    Male              0      No         No       2          Yes   \n",
       "3  7795-CFOCW    Male              0      No         No      45           No   \n",
       "4  9237-HQITU  Female              0      No         No       2          Yes   \n",
       "\n",
       "      MultipleLines InternetService OnlineSecurity  ... DeviceProtection  \\\n",
       "0  No phone service             DSL             No  ...               No   \n",
       "1                No             DSL            Yes  ...              Yes   \n",
       "2                No             DSL            Yes  ...               No   \n",
       "3  No phone service             DSL            Yes  ...              Yes   \n",
       "4                No     Fiber optic             No  ...               No   \n",
       "\n",
       "  TechSupport StreamingTV StreamingMovies        Contract PaperlessBilling  \\\n",
       "0          No          No              No  Month-to-month              Yes   \n",
       "1          No          No              No        One year               No   \n",
       "2          No          No              No  Month-to-month              Yes   \n",
       "3         Yes          No              No        One year               No   \n",
       "4          No          No              No  Month-to-month              Yes   \n",
       "\n",
       "               PaymentMethod MonthlyCharges  TotalCharges Churn  \n",
       "0           Electronic check          29.85         29.85    No  \n",
       "1               Mailed check          56.95        1889.5    No  \n",
       "2               Mailed check          53.85        108.15   Yes  \n",
       "3  Bank transfer (automatic)          42.30       1840.75    No  \n",
       "4           Electronic check          70.70        151.65   Yes  \n",
       "\n",
       "[5 rows x 21 columns]"
      ]
     },
     "execution_count": 3,
     "metadata": {},
     "output_type": "execute_result"
    }
   ],
   "source": [
    "import pandas as pd\n",
    "import numpy as np\n",
    "\n",
    "# Load the dataset\n",
    "df = pd.read_csv(\"customer_churn_data.csv\")\n",
    "\n",
    "# Display first few rows\n",
    "df.head()"
   ]
  },
  {
   "cell_type": "markdown",
   "id": "b7881018-e0b3-4095-acc1-95d5b734d81d",
   "metadata": {},
   "source": [
    "### Explanation\n",
    "#### pandas and numpy are used for data manipulation.\n",
    "\n",
    "#### read_csv() loads the dataset.\n",
    "\n",
    "#### head() displays the first few rows.\n",
    "\n",
    "#### pandas is imported as pd, which is a powerful library for data manipulation and analysis, especially for handling structured data.\n",
    "\n",
    "#### numpy is imported as np, which is a library used for numerical computations and supports operations on arrays, matrices, and other complex mathematical operations.\n",
    "\n",
    "#### pd.read_csv() is a function that reads a CSV file and loads it into a Pandas DataFrame.\n",
    "\n",
    "#### df is the variable used to store the DataFrame, which represents the dataset. Here, the file contains customer data related to telecom churn.\n",
    "\n",
    "#### df.head() displays the first 5 rows of the DataFrame, giving a quick view of the data. You can pass a number inside the parentheses to see more rows (e.g., df.head(10))."
   ]
  },
  {
   "cell_type": "markdown",
   "id": "9c5c075a-c2e1-4683-9b6f-0af259ea1da9",
   "metadata": {},
   "source": [
    "## 1.2 Handling Missing Values"
   ]
  },
  {
   "cell_type": "code",
   "execution_count": 6,
   "id": "7cd816f8-2941-4534-a41c-0dd2a3368155",
   "metadata": {
    "scrolled": true
   },
   "outputs": [
    {
     "data": {
      "text/plain": [
       "customerID          0\n",
       "gender              0\n",
       "SeniorCitizen       0\n",
       "Partner             0\n",
       "Dependents          0\n",
       "tenure              0\n",
       "PhoneService        0\n",
       "MultipleLines       0\n",
       "InternetService     0\n",
       "OnlineSecurity      0\n",
       "OnlineBackup        0\n",
       "DeviceProtection    0\n",
       "TechSupport         0\n",
       "StreamingTV         0\n",
       "StreamingMovies     0\n",
       "Contract            0\n",
       "PaperlessBilling    0\n",
       "PaymentMethod       0\n",
       "MonthlyCharges      0\n",
       "TotalCharges        0\n",
       "Churn               0\n",
       "dtype: int64"
      ]
     },
     "execution_count": 6,
     "metadata": {},
     "output_type": "execute_result"
    }
   ],
   "source": [
    "# Check for missing values\n",
    "df.isnull().sum()"
   ]
  },
  {
   "cell_type": "markdown",
   "id": "df7ef9ae-76bd-409a-8ca6-778162b546ce",
   "metadata": {},
   "source": [
    "#### df.isnull() returns a DataFrame of the same shape as df where True indicates a missing value and False indicates a non-missing value.\n",
    "\n",
    "#### sum() is applied to count the total number of missing values in each column."
   ]
  },
  {
   "cell_type": "markdown",
   "id": "3cb0e60d-5cc1-4492-ae97-5379c6818e96",
   "metadata": {},
   "source": [
    "### Let's fix missing values in TotalCharges:"
   ]
  },
  {
   "cell_type": "code",
   "execution_count": 8,
   "id": "8a5d8284-e502-4d23-9355-a78d806571a4",
   "metadata": {},
   "outputs": [
    {
     "name": "stderr",
     "output_type": "stream",
     "text": [
      "/var/folders/ch/my8ynsn17bz_1pbzbkz5bxh40000gn/T/ipykernel_11286/147445597.py:3: FutureWarning: A value is trying to be set on a copy of a DataFrame or Series through chained assignment using an inplace method.\n",
      "The behavior will change in pandas 3.0. This inplace method will never work because the intermediate object on which we are setting values always behaves as a copy.\n",
      "\n",
      "For example, when doing 'df[col].method(value, inplace=True)', try using 'df.method({col: value}, inplace=True)' or df[col] = df[col].method(value) instead, to perform the operation inplace on the original object.\n",
      "\n",
      "\n",
      "  df['TotalCharges'].fillna(df['TotalCharges'].median(), inplace=True)\n"
     ]
    }
   ],
   "source": [
    "# Fill missing values in TotalCharges column with median\n",
    "df['TotalCharges'] = pd.to_numeric(df['TotalCharges'], errors='coerce')\n",
    "df['TotalCharges'].fillna(df['TotalCharges'].median(), inplace=True)"
   ]
  },
  {
   "cell_type": "markdown",
   "id": "3583d4d6-3f9e-45b4-820d-ec6654ab627d",
   "metadata": {},
   "source": [
    "### Explanation\n",
    "#### pd.to_numeric(df['TotalCharges'], errors='coerce'):\n",
    "\n",
    "#### Converts the TotalCharges column to a numeric type.\n",
    "\n",
    "#### errors='coerce' ensures that if any value cannot be converted, it will be replaced with NaN.\n",
    "\n",
    "#### fillna(df['TotalCharges'].median(), inplace=True):\n",
    "\n",
    "#### Fills any missing values (NaN) in the TotalCharges column with the median of that column.\n",
    "\n",
    "#### inplace=True modifies the DataFrame directly."
   ]
  },
  {
   "cell_type": "markdown",
   "id": "b8713062-f8f6-4856-bc36-15186ec81c29",
   "metadata": {},
   "source": [
    "## 1.3 Encoding Categorical Variables"
   ]
  },
  {
   "cell_type": "code",
   "execution_count": 11,
   "id": "719d801b-f6fb-4851-b06b-e8e3d3463b0b",
   "metadata": {},
   "outputs": [],
   "source": [
    "from sklearn.preprocessing import LabelEncoder\n",
    "\n",
    "# Encode target variable\n",
    "df['Churn'] = LabelEncoder().fit_transform(df['Churn'])  \n",
    "\n",
    "# One-Hot Encoding for categorical features\n",
    "df = pd.get_dummies(df, drop_first=True)"
   ]
  },
  {
   "cell_type": "markdown",
   "id": "c3267efd-95a5-4752-ab31-0af5d5fbf37d",
   "metadata": {},
   "source": [
    "### Explanation\n",
    "#### LabelEncoder() is a utility from sklearn.preprocessing used to convert categorical labels into numeric values.\n",
    "\n",
    "#### fit_transform(df['Churn']):\n",
    "\n",
    "#### fit() learns the unique labels in the Churn column.\n",
    "\n",
    "#### transform() converts the values (e.g., \"Yes\" to 1 and \"No\" to 0).\n",
    "\n",
    "#### pd.get_dummies() converts categorical variables into a format that can be provided to machine learning algorithms (i.e., binary columns for each category).\n",
    "\n",
    "#### drop_first=True avoids the dummy variable trap by dropping the first column, preventing multicollinearity."
   ]
  },
  {
   "cell_type": "markdown",
   "id": "17896958-32d9-4501-b883-aa5cb481e38f",
   "metadata": {},
   "source": [
    "## 1.4 Feature Scaling"
   ]
  },
  {
   "cell_type": "code",
   "execution_count": 14,
   "id": "e54e804f-891a-4490-95dc-8842d5a00d04",
   "metadata": {},
   "outputs": [],
   "source": [
    "from sklearn.preprocessing import StandardScaler\n",
    "\n",
    "scaler = StandardScaler()\n",
    "df[['tenure', 'MonthlyCharges', 'TotalCharges']] = scaler.fit_transform(df[['tenure', 'MonthlyCharges', 'TotalCharges']])"
   ]
  },
  {
   "cell_type": "markdown",
   "id": "917ba311-a096-4b4d-9535-b87bc7f3d798",
   "metadata": {},
   "source": [
    "### Explanation\n",
    "#### StandardScaler() standardizes features by removing the mean and scaling to unit variance.\n",
    "\n",
    "#### fit_transform() is applied on the columns ['tenure', 'MonthlyCharges', 'TotalCharges'] to standardize them. This ensures that these features have similar scales, which is crucial for certain machine learning algorithms (like SVM, KNN)."
   ]
  },
  {
   "cell_type": "markdown",
   "id": "2025e645-3a13-497d-9bc1-c4b33b31eb36",
   "metadata": {},
   "source": [
    "## 1.5 Handling Imbalanced Data (SMOTE)"
   ]
  },
  {
   "cell_type": "code",
   "execution_count": 17,
   "id": "d97bdbcd-21a3-4260-bca1-441a4e24f36b",
   "metadata": {},
   "outputs": [],
   "source": [
    "from imblearn.over_sampling import SMOTE\n",
    "\n",
    "X = df.drop('Churn', axis=1)\n",
    "y = df['Churn']\n",
    "\n",
    "smote = SMOTE()\n",
    "X_resampled, y_resampled = smote.fit_resample(X, y)"
   ]
  },
  {
   "cell_type": "markdown",
   "id": "9ed7619b-4944-400c-aa4e-2e558b19f640",
   "metadata": {},
   "source": [
    "### Explanation\n",
    "#### SMOTE is used to balance the class distribution by generating synthetic data for the minority class.\n",
    "\n",
    "#### X contains the feature set (all columns except 'Churn').\n",
    "\n",
    "#### y is the target variable (the 'Churn' column).\n",
    "\n",
    "#### fit_resample() generates new synthetic samples and returns the resampled features (X_resampled) and target (y_resampled)."
   ]
  },
  {
   "cell_type": "markdown",
   "id": "303231c0-ec5e-43f8-bee8-a9962af8fe0b",
   "metadata": {},
   "source": [
    "# Step 2: Exploratory Data Analysis (EDA) & Visualization"
   ]
  },
  {
   "cell_type": "markdown",
   "id": "78d4f626-13fd-4dbf-a81d-b6192378901e",
   "metadata": {},
   "source": [
    "## 2.1 Data Distribution"
   ]
  },
  {
   "cell_type": "code",
   "execution_count": 21,
   "id": "bf467bb7-644d-4918-b1f5-d29430081b5e",
   "metadata": {},
   "outputs": [
    {
     "data": {
      "image/png": "[encoded data removed]",
      "text/plain": [
       "<Figure size 1000x500 with 1 Axes>"
      ]
     },
     "metadata": {},
     "output_type": "display_data"
    }
   ],
   "source": [
    "import matplotlib.pyplot as plt\n",
    "import seaborn as sns\n",
    "\n",
    "# Histogram\n",
    "plt.figure(figsize=(10, 5))\n",
    "sns.histplot(df['tenure'], bins=30, kde=True)\n",
    "plt.title(\"Distribution of Tenure\")\n",
    "plt.show()"
   ]
  },
  {
   "cell_type": "markdown",
   "id": "162e389d-bab7-4077-8d46-2427ad30c261",
   "metadata": {},
   "source": [
    "### Explanation\n",
    "#### Matplotlib and Seaborn are used for data visualization.\n",
    "\n",
    "#### sns.histplot() creates a histogram with 30 bins, and kde=True adds a Kernel Density Estimate curve to show the distribution of the 'tenure' column."
   ]
  },
  {
   "cell_type": "markdown",
   "id": "34859478-ce93-4794-88ee-412cf25ed906",
   "metadata": {},
   "source": [
    "## 2.2 Correlation & Multicollinearity"
   ]
  },
  {
   "cell_type": "code",
   "execution_count": 24,
   "id": "671c082d-88aa-4e85-ac45-b5b432767430",
   "metadata": {},
   "outputs": [
    {
     "data": {
      "text/plain": [
       "'# Heatmap\\nplt.figure(figsize=(12, 6))\\nsns.heatmap(df.corr(), annot=True, cmap=\\'coolwarm\\')\\nplt.title(\"Feature Correlation Heatmap\")\\nplt.show()'"
      ]
     },
     "execution_count": 24,
     "metadata": {},
     "output_type": "execute_result"
    }
   ],
   "source": [
    "'''# Heatmap\n",
    "plt.figure(figsize=(12, 6))\n",
    "sns.heatmap(df.corr(), annot=True, cmap='coolwarm')\n",
    "plt.title(\"Feature Correlation Heatmap\")\n",
    "plt.show()'''"
   ]
  },
  {
   "cell_type": "markdown",
   "id": "09dd74a1-136f-40c9-ae2b-3abd2622915c",
   "metadata": {},
   "source": [
    "### Explanation\n",
    "#### corr() finds relationships between numerical features.\n",
    "\n",
    "#### A high correlation (above 0.8) means two features are highly related and might cause redundancy."
   ]
  },
  {
   "cell_type": "markdown",
   "id": "13c21551-7ae7-4f54-869a-2a4400cfc43f",
   "metadata": {},
   "source": [
    "## 2.3 Dimensionality Reduction (PCA)"
   ]
  },
  {
   "cell_type": "code",
   "execution_count": 27,
   "id": "2e5693fb-20c9-4e7e-9747-125ac5ca951a",
   "metadata": {},
   "outputs": [
    {
     "data": {
      "image/png": "[encoded data removed]",
      "text/plain": [
       "<Figure size 640x480 with 1 Axes>"
      ]
     },
     "metadata": {},
     "output_type": "display_data"
    }
   ],
   "source": [
    "from sklearn.decomposition import PCA\n",
    "\n",
    "pca = PCA(n_components=2)\n",
    "X_pca = pca.fit_transform(X_resampled)\n",
    "\n",
    "plt.scatter(X_pca[:, 0], X_pca[:, 1], c=y_resampled, cmap='coolwarm')\n",
    "plt.title(\"PCA Projection\")\n",
    "plt.show()"
   ]
  },
  {
   "cell_type": "markdown",
   "id": "11858628-f07c-4a2a-a981-71a7a0784220",
   "metadata": {},
   "source": [
    "### Explanation\n",
    "#### PCA(n_components=2):\n",
    "\n",
    "#### PCA is a dimensionality reduction technique. Here, it reduces the data from its original dimensions to 2 principal components (n_components=2), making it easier to visualize.\n",
    "\n",
    "#### fit_transform() applies PCA to the resampled data (X_resampled).\n",
    "\n",
    "#### plt.scatter() plots the first two principal components."
   ]
  },
  {
   "cell_type": "markdown",
   "id": "26c4ca9b-fc31-4e57-92ff-0ade685e0204",
   "metadata": {},
   "source": [
    "# Machine Learning Model Building & Optimization"
   ]
  },
  {
   "cell_type": "markdown",
   "id": "310a1319-0ed7-467b-9d5b-5b2db8809ebd",
   "metadata": {},
   "source": [
    "## 3.1 Splitting Data"
   ]
  },
  {
   "cell_type": "code",
   "execution_count": 31,
   "id": "95557c01-1e0d-434a-b28f-5349953faac7",
   "metadata": {},
   "outputs": [],
   "source": [
    "from sklearn.model_selection import train_test_split\n",
    "\n",
    "X_train, X_test, y_train, y_test = train_test_split(X_resampled, y_resampled, test_size=0.2, random_state=42)"
   ]
  },
  {
   "cell_type": "markdown",
   "id": "d36f45f2-9c5d-4ba8-a7ab-afd6df7cae92",
   "metadata": {},
   "source": [
    "### Explanation\n",
    "#### train_test_split() splits the dataset into training and testing sets.\n",
    "\n",
    "#### test_size=0.2 indicates that 20% of the data is used for testing, and 80% for training.\n",
    "\n",
    "#### random_state=42 ensures reproducibility by setting a fixed seed for random splitting."
   ]
  },
  {
   "cell_type": "markdown",
   "id": "497acf1d-b0f4-4192-9382-d852bf32dde1",
   "metadata": {},
   "source": [
    "## 3.2 Classification Models"
   ]
  },
  {
   "cell_type": "code",
   "execution_count": 63,
   "id": "11a6c9b6-e6ca-406f-b715-aee8f2689f1e",
   "metadata": {
    "scrolled": true
   },
   "outputs": [
    {
     "name": "stdout",
     "output_type": "stream",
     "text": [
      "Logistic Regression Accuracy: 0.8778\n",
      "              precision    recall  f1-score   support\n",
      "\n",
      "           0       0.89      0.85      0.87      1021\n",
      "           1       0.86      0.90      0.88      1049\n",
      "\n",
      "    accuracy                           0.88      2070\n",
      "   macro avg       0.88      0.88      0.88      2070\n",
      "weighted avg       0.88      0.88      0.88      2070\n",
      "\n",
      "Decision Tree Accuracy: 0.8338\n",
      "              precision    recall  f1-score   support\n",
      "\n",
      "           0       0.85      0.81      0.83      1021\n",
      "           1       0.82      0.86      0.84      1049\n",
      "\n",
      "    accuracy                           0.83      2070\n",
      "   macro avg       0.83      0.83      0.83      2070\n",
      "weighted avg       0.83      0.83      0.83      2070\n",
      "\n",
      "Random Forest Accuracy: 0.8971\n",
      "              precision    recall  f1-score   support\n",
      "\n",
      "           0       0.92      0.87      0.89      1021\n",
      "           1       0.88      0.92      0.90      1049\n",
      "\n",
      "    accuracy                           0.90      2070\n",
      "   macro avg       0.90      0.90      0.90      2070\n",
      "weighted avg       0.90      0.90      0.90      2070\n",
      "\n",
      "SVM Accuracy: 0.8816\n",
      "              precision    recall  f1-score   support\n",
      "\n",
      "           0       0.88      0.88      0.88      1021\n",
      "           1       0.89      0.88      0.88      1049\n",
      "\n",
      "    accuracy                           0.88      2070\n",
      "   macro avg       0.88      0.88      0.88      2070\n",
      "weighted avg       0.88      0.88      0.88      2070\n",
      "\n",
      "XGBoost Accuracy: 0.8367\n",
      "              precision    recall  f1-score   support\n",
      "\n",
      "           0       0.86      0.80      0.83      1021\n",
      "           1       0.82      0.87      0.84      1049\n",
      "\n",
      "    accuracy                           0.84      2070\n",
      "   macro avg       0.84      0.84      0.84      2070\n",
      "weighted avg       0.84      0.84      0.84      2070\n",
      "\n"
     ]
    }
   ],
   "source": [
    "from sklearn.ensemble import RandomForestClassifier\n",
    "from sklearn.linear_model import LogisticRegression\n",
    "from xgboost import XGBClassifier\n",
    "from sklearn.svm import SVC\n",
    "from sklearn.tree import DecisionTreeClassifier\n",
    "from sklearn.metrics import accuracy_score, classification_report\n",
    "\n",
    "models = {\n",
    "    \"Logistic Regression\": LogisticRegression(),\n",
    "    \"Decision Tree\": DecisionTreeClassifier(),\n",
    "    \"Random Forest\": RandomForestClassifier(),\n",
    "    \"SVM\": SVC(),\n",
    "    \"XGBoost\": XGBClassifier()\n",
    "}\n",
    "\n",
    "# Train and evaluate models\n",
    "best_model = None\n",
    "best_accuracy = 0\n",
    "\n",
    "for name, model in models.items():\n",
    "    model.fit(X_train, y_train)\n",
    "    y_pred = model.predict(X_test)\n",
    "    acc = accuracy_score(y_test, y_pred)\n",
    "    print(f\"{name} Accuracy: {acc:.4f}\")\n",
    "    print(classification_report(y_test, y_pred))\n",
    "    \n",
    "    if acc > best_accuracy:\n",
    "        best_accuracy = acc\n",
    "        best_model = model"
   ]
  },
  {
   "cell_type": "markdown",
   "id": "e4e9a99e-04a4-4736-bb74-e30c31fa1287",
   "metadata": {},
   "source": [
    "### Explanation\n",
    "#### Multiple models are being trained and evaluated here:\n",
    "\n",
    "#### Logistic Regression\n",
    "\n",
    "#### Decision Tree\n",
    "\n",
    "#### Random Forest\n",
    "\n",
    "#### Support Vector Machine (SVM)\n",
    "\n",
    "#### XGBoost\n",
    "\n",
    "#### fit() trains each model on the training data (X_train, y_train).\n",
    "\n",
    "#### predict() predicts the target for the test data (X_test).\n",
    "\n",
    "#### accuracy_score() calculates the accuracy of predictions.\n",
    "\n",
    "#### classification_report() provides additional performance metrics like precision, recall, and F1-score."
   ]
  },
  {
   "cell_type": "markdown",
   "id": "45f68e33-81ad-4f5a-801a-5bb399a61343",
   "metadata": {},
   "source": [
    "## 3.3 Model Comparison & Conclusion"
   ]
  },
  {
   "cell_type": "markdown",
   "id": "415456d0-ed07-4cf2-a86e-4c51a6c09039",
   "metadata": {},
   "source": [
    "### According to the classification report, Random Forest model works best for this problem statement"
   ]
  },
  {
   "cell_type": "markdown",
   "id": "8c0e3824-a5fd-4f4d-b4ba-91f07ca3ee01",
   "metadata": {},
   "source": [
    "### Best Classification Model: XGBoost\n",
    "\n",
    "#### Handles missing values internally.\n",
    "\n",
    "#### Works well with imbalanced data.\n",
    "\n",
    "#### Reduces bias & variance (Boosting technique)."
   ]
  },
  {
   "cell_type": "markdown",
   "id": "d8e3d8de-43a6-4441-b14d-d952042cf6e1",
   "metadata": {},
   "source": [
    "## 3.4 Model Prediction"
   ]
  },
  {
   "cell_type": "code",
   "execution_count": 69,
   "id": "ce2e70ff-0a81-4ed7-941a-0da6e01ba751",
   "metadata": {},
   "outputs": [
    {
     "name": "stdout",
     "output_type": "stream",
     "text": [
      "Churn Prediction: No\n",
      "Churn Prediction: Yes\n"
     ]
    }
   ],
   "source": [
    "# Predict on new data\n",
    "def predict_new_customer(data):\n",
    "    data = pd.DataFrame([data])\n",
    "    data = pd.get_dummies(data, drop_first=True)\n",
    "    missing_cols = set(X.columns) - set(data.columns)\n",
    "    for col in missing_cols:\n",
    "        data[col] = 0\n",
    "    data = data[X.columns]  # Ensure same column order\n",
    "    data[['tenure', 'MonthlyCharges', 'TotalCharges']] = scaler.transform(data[['tenure', 'MonthlyCharges', 'TotalCharges']])\n",
    "    return best_model.predict(data)\n",
    "\n",
    "# Example new customer data\n",
    "new_customer = {\n",
    "    \"gender\": \"Male\",\n",
    "    \"SeniorCitizen\": 0,\n",
    "    \"Partner\": \"Yes\",\n",
    "    \"Dependents\": \"No\",\n",
    "    \"tenure\": 12,\n",
    "    \"PhoneService\": \"Yes\",\n",
    "    \"MultipleLines\": \"No\",\n",
    "    \"InternetService\": \"Fiber optic\",\n",
    "    \"OnlineSecurity\": \"No\",\n",
    "    \"OnlineBackup\": \"Yes\",\n",
    "    \"DeviceProtection\": \"No\",\n",
    "    \"TechSupport\": \"No\",\n",
    "    \"StreamingTV\": \"Yes\",\n",
    "    \"StreamingMovies\": \"Yes\",\n",
    "    \"Contract\": \"Month-to-month\",\n",
    "    \"PaperlessBilling\": \"Yes\",\n",
    "    \"PaymentMethod\": \"Electronic check\",\n",
    "    \"MonthlyCharges\": 75.35,\n",
    "    \"TotalCharges\": 900.20\n",
    "}\n",
    "# Example new customer data where Churn is Yes\n",
    "new_customer2 = {\n",
    "    \"gender\": \"Female\",\n",
    "    \"SeniorCitizen\": 0,\n",
    "    \"Partner\": \"Yes\",\n",
    "    \"Dependents\": \"No\",\n",
    "    \"tenure\": 1,\n",
    "    \"PhoneService\": \"No\",   \n",
    "    \"MultipleLines\": \"No\",\n",
    "    \"InternetService\": \"Fiber optic\",\n",
    "    \"OnlineSecurity\": \"No\",\n",
    "    \"OnlineBackup\": \"No\",\n",
    "    \"DeviceProtection\": \"No\",\n",
    "    \"TechSupport\": \"No\",\n",
    "    \"StreamingTV\": \"No\",\n",
    "    \"StreamingMovies\": \"No\",\n",
    "    \"Contract\": \"Month-to-month\",\n",
    "    \"PaperlessBilling\": \"Yes\",\n",
    "    \"PaymentMethod\": \"Electronic check\",\n",
    "    \"MonthlyCharges\": 29.85,\n",
    "    \"TotalCharges\": 29.85\n",
    "}\n",
    "\n",
    "# Make a prediction\n",
    "churn_prediction1 = predict_new_customer(new_customer)\n",
    "churn_prediction2 = predict_new_customer(new_customer2)\n",
    "print(\"Churn Prediction:\", \"Yes\" if churn_prediction1[0] == 1 else \"No\")\n",
    "print(\"Churn Prediction:\", \"Yes\" if churn_prediction2[0] == 1 else \"No\")\n",
    "import warnings\n",
    "warnings.filterwarnings(\"ignore\")"
   ]
  },
  {
   "cell_type": "markdown",
   "id": "db202ee3-8ca7-44c6-89e7-955d93ca5831",
   "metadata": {},
   "source": [
    "#### Why pd.DataFrame([data])?\n",
    "\n",
    "##### Since data is a dictionary representing a single new customer, it is converted into a DataFrame with one row.\n",
    "\n",
    "#### Why pd.get_dummies(data, drop_first=True)?\n",
    "\n",
    "##### This converts categorical variables (like \"gender\" and \"InternetService\") into numerical dummy variables.\n",
    "\n",
    "##### drop_first=True removes one category from each feature to avoid the dummy variable trap (redundancy in regression models).\n",
    "\n",
    "#### Why find missing columns?\n",
    "\n",
    "##### The training dataset (X) had categorical variables converted to multiple columns (dummy variables).\n",
    "\n",
    "##### The new input data might not have all those columns because it represents a single customer.\n",
    "\n",
    "#### Why assign missing columns as 0?\n",
    "\n",
    "##### Ensures the new data has the same structure as the training dataset by filling missing categorical variables with 0.\n",
    "\n",
    "#### Why enforce column order?\n",
    "\n",
    "##### If column orders do not match, the model may misinterpret features.\n",
    "\n",
    "#### Why best_model.predict(data)?\n",
    "\n",
    "##### Assumes best_model is the trained machine learning model.\n",
    "\n",
    "##### Uses the model to predict whether the new customer will churn (1) or not (0)."
   ]
  },
  {
   "cell_type": "markdown",
   "id": "4642f2b9-f4fd-478a-8b12-1d0a1fff8c57",
   "metadata": {},
   "source": [
    "### Why is the Prediction \"No\"?\n",
    "#### Tenure (12 Months)\n",
    "\n",
    "##### Customers with a longer tenure are generally more loyal and less likely to churn.\n",
    "\n",
    "##### While 12 months is not extremely long, it indicates that the customer is not brand new.\n",
    "\n",
    "#### Engagement with Services\n",
    "\n",
    "##### The customer is using multiple services like StreamingTV, StreamingMovies, and OnlineBackup.\n",
    "\n",
    "##### Customers who use multiple services are less likely to churn because they find value in the services.\n",
    "\n",
    "#### Partner Present\n",
    "\n",
    "##### Customers with a partner are statistically less likely to churn because they share expenses and rely on the services.\n",
    "\n",
    "#### High Total Charges ($900.20)\n",
    "\n",
    "##### Customers with higher total charges tend to be more invested in the service and less likely to leave.\n",
    "\n",
    "#### Risk Factors Present, But Not Strong Enough\n",
    "\n",
    "##### Month-to-month contract → Higher churn risk 🚨\n",
    "\n",
    "##### Electronic check payment → Higher churn risk 🚨\n",
    "\n",
    "##### No tech support & no device protection → Slightly higher churn risk 🚨\n",
    "\n",
    "##### Online security is \"No\" → Slightly higher churn risk 🚨\n",
    "\n",
    "#### However, these risk factors are outweighed by tenure, total charges, and engagement."
   ]
  },
  {
   "cell_type": "markdown",
   "id": "ea69f84d-9a37-4266-90e5-4a8d1774a8d7",
   "metadata": {},
   "source": [
    "### 🚀 Why is the Prediction \"Yes\"?\n",
    "#### 🚨 Very Low Tenure (Only 1 Month)\n",
    "\n",
    "##### The biggest factor is that the customer just joined (tenure = 1 month).\n",
    "\n",
    "##### New users are much more likely to churn because they haven't built loyalty yet.\n",
    "\n",
    "#### 🚨 No Phone Service & No Engagement in Add-on Services\n",
    "\n",
    "##### No Phone Service, No StreamingTV, No StreamingMovies, No Online Security, No Tech Support, No Online Backup, No Device Protection →\n",
    "###### ➝ Very low engagement with the service\n",
    "###### ➝ High chance of leaving because the customer isn't using many features.\n",
    "\n",
    "#### 🚨 Month-to-Month Contract\n",
    "\n",
    "##### Month-to-month customers are significantly more likely to churn compared to those on one-year or two-year contracts.\n",
    "\n",
    "##### These customers can leave at any time without penalty.\n",
    "\n",
    "#### 🚨 Payment Method: Electronic Check\n",
    "\n",
    "##### Customers who use Electronic Check have a historically higher churn rate compared to those using credit cards or bank transfers.\n",
    "\n",
    "#### 🚨 Very Low Total Charges ($29.85)\n",
    "\n",
    "##### A low total charge suggests the customer is very new and hasn’t committed much financially.\n",
    "\n",
    "##### Such users are at a high risk of not continuing the service."
   ]
  },
  {
   "cell_type": "markdown",
   "id": "60b13e29-435d-4657-a049-cbf042ca8dc3",
   "metadata": {},
   "source": [
    "## 3.5 Analysis and Reporting"
   ]
  },
  {
   "cell_type": "markdown",
   "id": "f38cf319-1cda-4f81-b600-a578bb96e827",
   "metadata": {
    "jp-MarkdownHeadingCollapsed": true
   },
   "source": [
    "### 🔮 How Can This Customer Be Retained?\n",
    "#### If the company wants to reduce churn risk, they can take the following actions:\n",
    "\n",
    "##### Offer incentives for longer contracts\n",
    "\n",
    "###### Suggest a one-year or two-year contract with discounts to increase commitment.\n",
    "\n",
    "##### Encourage more engagement with services\n",
    "\n",
    "###### Offer free trials for StreamingTV, Movies, Online Backup, or Tech Support.\n",
    "\n",
    "##### Provide better payment options\n",
    "\n",
    "###### Encourage the customer to switch to AutoPay or Credit Card for more reliability.\n",
    "\n",
    "##### Improve tenure retention\n",
    "\n",
    "###### Provide personalized offers in the first 3 months to prevent early churn."
   ]
  }
 ],
 "metadata": {
  "kernelspec": {
   "display_name": "Python [conda env:base] *",
   "language": "python",
   "name": "conda-base-py"
  },
  "language_info": {
   "codemirror_mode": {
    "name": "ipython",
    "version": 3
   },
   "file_extension": ".py",
   "mimetype": "text/x-python",
   "name": "python",
   "nbconvert_exporter": "python",
   "pygments_lexer": "ipython3",
   "version": "3.12.7"
  }
 },
 "nbformat": 4,
 "nbformat_minor": 5
}
